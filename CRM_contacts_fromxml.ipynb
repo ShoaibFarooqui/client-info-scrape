{
 "cells": [
  {
   "cell_type": "code",
   "execution_count": 1,
   "metadata": {},
   "outputs": [],
   "source": [
    "import pandas as pd\n",
    "import xml.etree.ElementTree as et\n",
    "\n",
    "tree = et.parse(\"Resources/Orders.xml\")\n",
    "root = tree.getroot()"
   ]
  },
  {
   "cell_type": "code",
   "execution_count": 2,
   "metadata": {},
   "outputs": [],
   "source": [
    "first_name = []\n",
    "last_name = []\n",
    "email = [] \n",
    "\n",
    "billing_address = root.iter(\"BillingAddress\")\n",
    "for client in billing_address:\n",
    "    first_name.append(client.find(\"FirstName\").text)\n",
    "    last_name.append(client.find(\"LastName\").text)\n",
    "    email.append(client.find(\"EMail\").text)"
   ]
  },
  {
   "cell_type": "code",
   "execution_count": 3,
   "metadata": {},
   "outputs": [],
   "source": [
    "contacts = pd.DataFrame({\n",
    "    \"First Name\":first_name,\n",
    "    \"Last Name\":last_name,\n",
    "    \"Email\":email\n",
    "})\n"
   ]
  },
  {
   "cell_type": "code",
   "execution_count": 4,
   "metadata": {},
   "outputs": [],
   "source": [
    "contacts.to_excel('Resources/contact_list.xlsx')"
   ]
  }
 ],
 "metadata": {
  "kernelspec": {
   "display_name": "PythonData",
   "language": "python",
   "name": "python3"
  },
  "language_info": {
   "codemirror_mode": {
    "name": "ipython",
    "version": 3
   },
   "file_extension": ".py",
   "mimetype": "text/x-python",
   "name": "python",
   "nbconvert_exporter": "python",
   "pygments_lexer": "ipython3",
   "version": "3.7.13"
  },
  "orig_nbformat": 4,
  "vscode": {
   "interpreter": {
    "hash": "04f126040f64e594b0285d81e53773a98b8990a4e06111241823fa1a58755463"
   }
  }
 },
 "nbformat": 4,
 "nbformat_minor": 2
}
