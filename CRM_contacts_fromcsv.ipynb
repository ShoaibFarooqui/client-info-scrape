{
 "cells": [
  {
   "cell_type": "code",
   "execution_count": 5,
   "metadata": {},
   "outputs": [],
   "source": [
    "import pandas as pd\n",
    "\n",
    "csv = pd.read_csv(\"Resources/Customers.csv\")"
   ]
  },
  {
   "cell_type": "code",
   "execution_count": 6,
   "metadata": {},
   "outputs": [],
   "source": [
    "firstn = csv[\"First name [BillingAddress.FirstName]\"]\n",
    "lastn = csv[\"Surname [BillingAddress.LastName]\"]\n",
    "email = csv[\"Email address [BillingAddress.EMail]\"]"
   ]
  },
  {
   "cell_type": "code",
   "execution_count": 7,
   "metadata": {},
   "outputs": [],
   "source": [
    "contacts = pd.DataFrame({\n",
    "    \"First Name\":firstn,\n",
    "    \"Last Name\":lastn,\n",
    "    \"Email\":email\n",
    "})"
   ]
  },
  {
   "cell_type": "code",
   "execution_count": 8,
   "metadata": {},
   "outputs": [],
   "source": [
    "contacts.to_excel(\"Resources/contacts.xlsx\")"
   ]
  }
 ],
 "metadata": {
  "kernelspec": {
   "display_name": "PythonData",
   "language": "python",
   "name": "python3"
  },
  "language_info": {
   "codemirror_mode": {
    "name": "ipython",
    "version": 3
   },
   "file_extension": ".py",
   "mimetype": "text/x-python",
   "name": "python",
   "nbconvert_exporter": "python",
   "pygments_lexer": "ipython3",
   "version": "3.7.13"
  },
  "orig_nbformat": 4,
  "vscode": {
   "interpreter": {
    "hash": "04f126040f64e594b0285d81e53773a98b8990a4e06111241823fa1a58755463"
   }
  }
 },
 "nbformat": 4,
 "nbformat_minor": 2
}
